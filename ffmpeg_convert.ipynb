{
 "cells": [
  {
   "cell_type": "code",
   "execution_count": 4,
   "metadata": {},
   "outputs": [
    {
     "name": "stdout",
     "output_type": "stream",
     "text": [
      "Файл был успешно конвертирован и сохранен как outputs/output_crosslingual_0.wav\n",
      "Файл был успешно конвертирован и сохранен как outputs/output_crosslingual_1.wav\n",
      "Файл был успешно конвертирован и сохранен как outputs/output_crosslingual_2.wav\n",
      "Файл был успешно конвертирован и сохранен как outputs/output_crosslingual_3.wav\n"
     ]
    }
   ],
   "source": [
    "from pydub import AudioSegment\n",
    "import os\n",
    "\n",
    "ogg_file_path = [\n",
    "    r'F:\\Python_progect\\testing_progect\\5_stages\\voice_files\\AgADKTEAAr35uEs.ogg',\n",
    "    r'F:\\Python_progect\\testing_progect\\5_stages\\voice_files\\AgADKDEAAr35uEs.ogg',\n",
    "    r'F:\\Python_progect\\testing_progect\\5_stages\\voice_files\\AgADhCsAApdLuEs.ogg',\n",
    "    r'C:\\Users\\BOSS\\Downloads\\audio_2024-06-14_16-29-31.ogg']\n",
    "\n",
    "output_dir = 'outputs'\n",
    "os.makedirs(output_dir, exist_ok=True)\n",
    "\n",
    "for i, file_path in enumerate(ogg_file_path):\n",
    "    save_path = f'{output_dir}/output_crosslingual_{i}.wav'\n",
    "    try:\n",
    "        # Загрузите ogg файл\n",
    "        audio = AudioSegment.from_ogg(file_path)\n",
    "\n",
    "        # Сохраните его как mp3 файл\n",
    "        audio.export(save_path, format=\"wav\")\n",
    "\n",
    "        print(f\"Файл был успешно конвертирован и сохранен как {save_path}\")\n",
    "    except Exception as e:\n",
    "        print(f\"Произошла ошибка: {e}\")\n",
    "\n",
    "\n",
    "\n"
   ]
  },
  {
   "cell_type": "code",
   "execution_count": null,
   "metadata": {},
   "outputs": [],
   "source": []
  }
 ],
 "metadata": {
  "kernelspec": {
   "display_name": ".venv",
   "language": "python",
   "name": "python3"
  },
  "language_info": {
   "codemirror_mode": {
    "name": "ipython",
    "version": 3
   },
   "file_extension": ".py",
   "mimetype": "text/x-python",
   "name": "python",
   "nbconvert_exporter": "python",
   "pygments_lexer": "ipython3",
   "version": "3.9.13"
  }
 },
 "nbformat": 4,
 "nbformat_minor": 2
}
