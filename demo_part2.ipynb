{
 "cells": [
  {
   "cell_type": "markdown",
   "id": "b6ee1ede",
   "metadata": {},
   "source": [
    "## Демонстрационный клон голоса на разных языках"
   ]
  },
  {
   "cell_type": "code",
   "execution_count": 8,
   "id": "b7f043ee",
   "metadata": {},
   "outputs": [],
   "source": [
    "import os\n",
    "import torch\n",
    "from openvoice import se_extractor\n",
    "from openvoice.api import ToneColorConverter"
   ]
  },
  {
   "cell_type": "markdown",
   "id": "15116b59",
   "metadata": {},
   "source": [
    "### Инициализация"
   ]
  },
  {
   "cell_type": "code",
   "execution_count": 9,
   "id": "aacad912",
   "metadata": {},
   "outputs": [
    {
     "name": "stdout",
     "output_type": "stream",
     "text": [
      "Loaded checkpoint 'checkpoints/converter/checkpoint.pth'\n",
      "missing/unexpected keys: [] []\n"
     ]
    }
   ],
   "source": [
    "ckpt_converter = 'checkpoints/converter'\n",
    "device=\"cuda:0\" if torch.cuda.is_available() else \"cpu\"\n",
    "output_dir = 'outputs'\n",
    "\n",
    "tone_color_converter = ToneColorConverter(f'{ckpt_converter}/config.json', device=device)\n",
    "tone_color_converter.load_ckpt(f'{ckpt_converter}/checkpoint.pth')\n",
    "\n",
    "os.makedirs(output_dir, exist_ok=True)"
   ]
  },
  {
   "cell_type": "markdown",
   "id": "3db80fcf",
   "metadata": {},
   "source": [
    "В этой демонстрации мы будем использовать OpenAI TTS в качестве базового диктора для создания мультиязычного речевого аудио. Пользователи могут гибко менять базовый динамик в соответствии со своими потребностями. Пожалуйста, создайте файл с именем `.env` и поместите ключ OpenAI как `OPENAI_API_KEY=xxx`. Мы также предоставили модель китайского базового диктора (см. `demo_part1.ipynb`)."
   ]
  },
  {
   "cell_type": "code",
   "execution_count": 10,
   "id": "67eb2fa9",
   "metadata": {},
   "outputs": [],
   "source": [
    "import requests\n",
    "import os\n",
    "from dotenv import load_dotenv\n",
    "load_dotenv() \n",
    "\n",
    "api_key=os.environ.get(\"OPENAI_API_KEY\")\n",
    "proxy=os.environ.get(\"proxy\")"
   ]
  },
  {
   "cell_type": "code",
   "execution_count": null,
   "id": "06763e3f",
   "metadata": {},
   "outputs": [],
   "source": [
    "proxies = {\n",
    "    \"http\": proxy,\n",
    "    \"https\": proxy\n",
    "}\n",
    "\n",
    "headers = {\n",
    "    'Content-Type': 'application/json',\n",
    "    'Authorization': f'Bearer {api_key}'\n",
    "}\n",
    "\n",
    "json_data = {\n",
    "    'model':\"tts-1\",\n",
    "    'voice':\"nova\",\n",
    "    'input':\"This audio will be used to extract the base speaker tone color embedding. \" + \\\n",
    "        \"Typically a very short audio should be sufficient, but increasing the audio \" + \\\n",
    "        \"length will also improve the output audio quality.\"\n",
    "}\n",
    "\n",
    "\n",
    "response = requests.post('https://api.openai.com/v1/audio/speech', proxies=proxies, headers=headers, json=json_data)\n",
    "\n",
    "if response.status_code == 200:\n",
    "    with open('output.mp3', 'wb') as f:\n",
    "        f.write(response.content)\n",
    "    print(\"MP3 file has been saved as 'output.mp3'\")\n",
    "else:\n",
    "    print(f\"Failed to retrieve MP3 file. Status code: {response.status_code}\")"
   ]
  },
  {
   "cell_type": "markdown",
   "id": "7f67740c",
   "metadata": {},
   "source": [
    "### Получение вкраплений тоновых цветов"
   ]
  },
  {
   "cell_type": "markdown",
   "id": "f8add279",
   "metadata": {},
   "source": [
    "`source_se` - это вкрапление цвета тона базового диктора.  Это среднее значение для нескольких предложений с несколькими эмоциями базового диктора. Мы приводим результат непосредственно здесь, но читатели могут самостоятельно извлечь `source_se`."
   ]
  },
  {
   "cell_type": "code",
   "execution_count": 11,
   "id": "63ff6273",
   "metadata": {},
   "outputs": [
    {
     "name": "stdout",
     "output_type": "stream",
     "text": [
      "OpenVoice version: v1\n",
      "[(0.0, 12.48)]\n",
      "after vad: dur = 12.48\n"
     ]
    },
    {
     "name": "stderr",
     "output_type": "stream",
     "text": [
      "f:\\GitProgect\\my_openvoice\\.venv\\lib\\site-packages\\torch\\functional.py:665: UserWarning: stft with return_complex=False is deprecated. In a future pytorch release, stft will return complex tensors for all inputs, and return_complex=False will raise an error.\n",
      "Note: you can still call torch.view_as_real on the complex output to recover the old return format. (Triggered internally at C:\\actions-runner\\_work\\pytorch\\pytorch\\builder\\windows\\pytorch\\aten\\src\\ATen\\native\\SpectralOps.cpp:878.)\n",
      "  return _VF.stft(input, n_fft, hop_length, win_length, window,  # type: ignore[attr-defined]\n"
     ]
    },
    {
     "name": "stdout",
     "output_type": "stream",
     "text": [
      "OpenVoice version: v1\n",
      "[(0.0, 58.8188125)]\n",
      "after vad: dur = 58.81798185941043\n"
     ]
    }
   ],
   "source": [
    "base_speaker = f\"{output_dir}/openai_source_output.mp3\"\n",
    "source_se, audio_name = se_extractor.get_se(base_speaker, tone_color_converter, vad=True)\n",
    "\n",
    "reference_speaker = 'resources/example_reference.mp3' # This is the voice you want to clone\n",
    "target_se, audio_name = se_extractor.get_se(reference_speaker, tone_color_converter, vad=True)"
   ]
  },
  {
   "cell_type": "markdown",
   "id": "a40284aa",
   "metadata": {},
   "source": [
    "### Заключение"
   ]
  },
  {
   "cell_type": "code",
   "execution_count": 13,
   "id": "73dc1259",
   "metadata": {},
   "outputs": [
    {
     "name": "stdout",
     "output_type": "stream",
     "text": [
      "MP3 file has been saved as 'output.mp3'\n",
      "MP3 file has been saved as 'output.mp3'\n",
      "MP3 file has been saved as 'output.mp3'\n",
      "MP3 file has been saved as 'output.mp3'\n",
      "MP3 file has been saved as 'output.mp3'\n",
      "MP3 file has been saved as 'output.mp3'\n"
     ]
    }
   ],
   "source": [
    "# Запустите базовый динамик tts\n",
    "text = [\n",
    "    \"MyShell is a decentralized and comprehensive platform for discovering, creating, and staking AI-native apps.\",\n",
    "    \"MyShell هي منصة لامركزية وشاملة لاكتشاف وإنشاء ورهان تطبيقات الذكاء الاصطناعي الأصلية.\",\n",
    "    \"MyShell是一个去中心化且全面的平台，用于发现、创建和投资AI原生应用程序。\",\n",
    "    \"MyShell एक विकेंद्रीकृत और व्यापक मंच है, जो AI-मूल ऐप्स की खोज, सृजन और स्टेकिंग के लिए है।\",\n",
    "    \"MyShellは、AIネイティブアプリの発見、作成、およびステーキングのための分散型かつ包括的なプラットフォームです。\",\n",
    "    \"MyShell — это децентрализованная и всеобъемлющая платформа для обнаружения, создания и стейкинга AI-ориентированных приложений.\"\n",
    "]\n",
    "src_path = f'{output_dir}/tmp.wav'\n",
    "\n",
    "for i, t in enumerate(text):\n",
    "\n",
    "    json_data = {\n",
    "    'model':\"tts-1\",\n",
    "    'voice':\"nova\",\n",
    "    'input':t\n",
    "    }\n",
    "\n",
    "    response = requests.post('https://api.openai.com/v1/audio/speech', proxies=proxies, headers=headers, json=json_data)\n",
    "\n",
    "    if response.status_code == 200:\n",
    "        with open(src_path, 'wb') as f:\n",
    "            f.write(response.content)\n",
    "        print(\"MP3 file has been saved as 'output.mp3'\")\n",
    "    else:\n",
    "        print(f\"Failed to retrieve MP3 file. Status code: {response.status_code}\")\n",
    "\n",
    "\n",
    "    save_path = f'{output_dir}/output_crosslingual_{i}.wav'\n",
    "\n",
    "    # Run the tone color converter\n",
    "    encode_message = \"@MyShell\"\n",
    "    tone_color_converter.convert(\n",
    "        audio_src_path=src_path, \n",
    "        src_se=source_se, \n",
    "        tgt_se=target_se, \n",
    "        output_path=save_path,\n",
    "        message=encode_message)"
   ]
  }
 ],
 "metadata": {
  "interpreter": {
   "hash": "9d70c38e1c0b038dbdffdaa4f8bfa1f6767c43760905c87a9fbe7800d18c6c35"
  },
  "kernelspec": {
   "display_name": "Python 3 (ipykernel)",
   "language": "python",
   "name": "python3"
  },
  "language_info": {
   "codemirror_mode": {
    "name": "ipython",
    "version": 3
   },
   "file_extension": ".py",
   "mimetype": "text/x-python",
   "name": "python",
   "nbconvert_exporter": "python",
   "pygments_lexer": "ipython3",
   "version": "3.9.13"
  }
 },
 "nbformat": 4,
 "nbformat_minor": 5
}
