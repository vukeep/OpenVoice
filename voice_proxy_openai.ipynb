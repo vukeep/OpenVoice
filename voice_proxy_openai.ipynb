{
 "cells": [
  {
   "cell_type": "code",
   "execution_count": 1,
   "metadata": {},
   "outputs": [],
   "source": [
    "import requests\n",
    "import os\n",
    "from dotenv import load_dotenv\n",
    "load_dotenv() \n",
    "\n",
    "api_key=os.environ.get(\"OPENAI_API_KEY\")\n",
    "proxy=os.environ.get(\"proxy\")"
   ]
  },
  {
   "cell_type": "code",
   "execution_count": 21,
   "metadata": {},
   "outputs": [
    {
     "data": {
      "text/plain": [
       "{'ip': '196.18.230.78'}"
      ]
     },
     "execution_count": 21,
     "metadata": {},
     "output_type": "execute_result"
    }
   ],
   "source": [
    "proxies = {\n",
    "    \"http\": proxy,\n",
    "    \"https\": proxy\n",
    "}\n",
    "\n",
    "response = requests.get('https://api.ipify.org?format=json', proxies=proxies)\n",
    "ip_data = response.json()\n",
    "ip_data\n",
    "\n",
    "# {'ip': '95.189.101.20'}"
   ]
  },
  {
   "cell_type": "code",
   "execution_count": 5,
   "metadata": {},
   "outputs": [],
   "source": [
    "proxies = {\n",
    "    \"http\": proxy,\n",
    "    \"https\": proxy\n",
    "}\n",
    "headers = {\n",
    "    'Content-Type': 'application/json',\n",
    "    'Authorization': f'Bearer {api_key}'\n",
    "}\n",
    "\n",
    "json_data = {\n",
    "    'model': 'gpt-3.5-turbo',\n",
    "    'messages': [\n",
    "        {\n",
    "            'role': 'user',\n",
    "            'content': 'Придумай слоган для компании iSmart',\n",
    "        },\n",
    "    ],\n",
    "    'temperature': 0.7,\n",
    "}\n",
    "\n",
    "response = requests.post('https://api.openai.com/v1/chat/completions', proxies=proxies, headers=headers, json=json_data).json()\n",
    "response"
   ]
  },
  {
   "cell_type": "code",
   "execution_count": 9,
   "metadata": {},
   "outputs": [
    {
     "data": {
      "text/plain": [
       "<Response [200]>"
      ]
     },
     "execution_count": 9,
     "metadata": {},
     "output_type": "execute_result"
    }
   ],
   "source": [
    "proxies = {\n",
    "    \"http\": proxy,\n",
    "    \"https\": proxy\n",
    "}\n",
    "\n",
    "headers = {\n",
    "    'Content-Type': 'application/json',\n",
    "    'Authorization': f'Bearer {api_key}'\n",
    "}\n",
    "\n",
    "json_data = {\n",
    "    'model':\"tts-1\",\n",
    "    'voice':\"nova\",\n",
    "    'input':\"This audio will be used to extract the base speaker tone color embedding. \" + \\\n",
    "        \"Typically a very short audio should be sufficient, but increasing the audio \" + \\\n",
    "        \"length will also improve the output audio quality.\"\n",
    "}\n",
    "\n",
    "\n",
    "response = requests.post('https://api.openai.com/v1/audio/speech', proxies=proxies, headers=headers, json=json_data)\n",
    "\n",
    "response"
   ]
  },
  {
   "cell_type": "code",
   "execution_count": 13,
   "metadata": {},
   "outputs": [
    {
     "name": "stdout",
     "output_type": "stream",
     "text": [
      "MP3 file has been saved as 'output.mp3'\n"
     ]
    }
   ],
   "source": [
    "output_dir = 'outputs'\n",
    "os.makedirs(output_dir, exist_ok=True)\n",
    "\n",
    "if response.status_code == 200:\n",
    "    with open(f\"{output_dir}/openai_source_output.mp3\", 'wb') as f:\n",
    "        f.write(response.content)\n",
    "    print(\"MP3 file has been saved as 'output.mp3'\")\n",
    "else:\n",
    "    print(f\"Failed to retrieve MP3 file. Status code: {response.status_code}\")"
   ]
  },
  {
   "cell_type": "code",
   "execution_count": null,
   "metadata": {},
   "outputs": [],
   "source": []
  }
 ],
 "metadata": {
  "kernelspec": {
   "display_name": ".venv",
   "language": "python",
   "name": "python3"
  },
  "language_info": {
   "codemirror_mode": {
    "name": "ipython",
    "version": 3
   },
   "file_extension": ".py",
   "mimetype": "text/x-python",
   "name": "python",
   "nbconvert_exporter": "python",
   "pygments_lexer": "ipython3",
   "version": "3.9.13"
  }
 },
 "nbformat": 4,
 "nbformat_minor": 2
}
